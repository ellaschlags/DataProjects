{
 "cells": [
  {
   "cell_type": "markdown",
   "id": "bd40b322",
   "metadata": {},
   "source": [
    "# Sampling Distributions & Probability\n",
    "\n",
    "\n",
    "This is about sampling, sampling distributions and probability.\n",
    "\n",
    "## Goals\n",
    " - Develop familiarity with sampling distributions (e.g., their creation, visualizations, how changing parameters changes resulting distributions).\n",
    " - Understand how to use elements of probability theory to predict outcomes and understand a sample space.\n",
    "\n",
    "Practice building a Sampling Distribution of Sample Means and a Sampling Distribution of Sample Standard Deviations. Visualize both distributions and examine their properties. \n",
    "\n",
    "\n",
    "\n",
    "## Sampling and Sampling Distributions\n",
    "\n",
    "\n",
    "The differences between *sample* distributions and *sampling* distributions."
   ]
  },
  {
   "cell_type": "code",
   "execution_count": 1,
   "id": "749a7a85",
   "metadata": {},
   "outputs": [],
   "source": [
    "# Import statements\n",
    "\n",
    "import random \n",
    "import numpy as np \n",
    "import matplotlib.pyplot as plt "
   ]
  },
  {
   "cell_type": "code",
   "execution_count": 2,
   "id": "104fca06",
   "metadata": {},
   "outputs": [],
   "source": [
    "# Generate sample.\n",
    "a = np.empty(50)\n",
    "for i in range(50):\n",
    "    a[i] = random.gauss(mu=100, sigma=20)\n",
    "    "
   ]
  },
  {
   "cell_type": "code",
   "execution_count": 3,
   "id": "d9531e01",
   "metadata": {},
   "outputs": [
    {
     "name": "stdout",
     "output_type": "stream",
     "text": [
      "a = [116.81061573  84.05360836 119.05618239 135.24840119 103.274721\n",
      "  98.31500428  71.56296785 126.52881661  74.05355038  92.24962722\n",
      "  84.94028923 109.46101668  90.05631854  77.36282106 110.27460925\n",
      "  68.99742681 100.44593043  97.8296054  110.38712732  92.56956896\n",
      " 136.36049834 109.18019777  93.40098095  78.1709286   85.2127694\n",
      " 115.19715325 114.61063045 110.69469154 103.03485068 135.32169782\n",
      "  82.96899047  95.85796703 130.09424753 119.52962643 112.94066543\n",
      " 113.7706914   60.56636719  59.40484949 115.0319195  118.13641498\n",
      "  91.09552355  97.31477009  93.12587382  84.79747511 107.25819158\n",
      "  83.30799353  96.49982642 118.13869137  82.52629038  76.91211598]\n",
      "There are 50 values in the sample.\n"
     ]
    }
   ],
   "source": [
    "# Use print statementments to check if code is correct.\n",
    "print(f'a = {a}')\n",
    "print(f'There are {len(a)} values in the sample.')"
   ]
  },
  {
   "cell_type": "code",
   "execution_count": 4,
   "id": "01ecfd17",
   "metadata": {},
   "outputs": [
    {
     "data": {
      "image/png": "[encoded data removed]",
      "text/plain": [
       "<Figure size 432x288 with 1 Axes>"
      ]
     },
     "metadata": {
      "needs_background": "light"
     },
     "output_type": "display_data"
    }
   ],
   "source": [
    "# Plot sample's distribution using a histogram.\n",
    "\n",
    "plt.hist(a)\n",
    "plt.title(f'Distribution of {len(a)} Scores from a Population')\n",
    "plt.ylabel('Frequency')\n",
    "plt.xlabel('Value')\n",
    "plt.show()"
   ]
  },
  {
   "cell_type": "markdown",
   "id": "99bb35eb",
   "metadata": {},
   "source": [
    "### <font color=\"blue\"> *Problem 1a*</font>\n",
    "\n",
    "In the code cell below, I want to calculate these values for the array plotted above. Use a print statement to report the results. Will use Bessel's correction (n-1) in the denominator."
   ]
  },
  {
   "cell_type": "code",
   "execution_count": 5,
   "id": "392a5960",
   "metadata": {},
   "outputs": [
    {
     "name": "stdout",
     "output_type": "stream",
     "text": [
      "The mean is 99.6788219753941 and the standard deviation is 19.221981230781097\n"
     ]
    }
   ],
   "source": [
    "# Calculate the mean and standard deviation of the array and print values.\n",
    "sample_mean = np.mean(a)\n",
    "sample_std = np.std(a, ddof=1)\n",
    "print(f'The mean is {sample_mean} and the standard deviation is {sample_std}')\n"
   ]
  },
  {
   "cell_type": "markdown",
   "id": "1bb85963",
   "metadata": {},
   "source": [
    "### <font color=\"blue\"> *Problem 1b*</font>\n",
    "\n",
    "1) Is this a sample distribution or a sampling distribution? How?\n",
    "\n",
    "<font color=\"red\">This is a sample distribution. A sample distribution is the distribution of values within a single sample taken from a population. It includes actual data points that are collected or observed from that population. Only working with one set of values (a single sample), makes it a sample distribution.\n",
    "\n",
    "\n",
    "2) Why didn't the array's mean/standard deviation match the population mu/sigma? What would I have to do make the array's mean/standard deviation more likely to be a closer match?\n",
    "\n",
    "<font color=\"red\">The array's mean and standard deviation didn't match the population's mean and standard deviation because of sampling variability. Since its a single sample, the observed sample mean and standard deviation should not realistically match the populations, especially if the sample size is kind of small.\n",
    "\n",
    "<font color=\"red\">To make the sample's mean and standard deviation closer to the population parameters, I would have to increase the sample size or take more samples, if I were to take multiple samples and compute the mean of those sample means, this would form a sampling distribution of the mean.\n",
    "\n",
    "3) What type of population is being sampled?\n",
    "\n",
    "<font color=\"red\">A normal population or a population that is approximately normally distributed. Typically, population with \n",
    "μ=100 and σ=20 suggest values to be centered around the mean with the majority of them falling in a predictable range, this is a characteristic of a normal distribution.\n"
   ]
  },
  {
   "cell_type": "markdown",
   "id": "344a6efd",
   "metadata": {},
   "source": [
    " \n",
    " \n",
    " \n"
   ]
  },
  {
   "cell_type": "code",
   "execution_count": 6,
   "id": "bacf64c0",
   "metadata": {},
   "outputs": [],
   "source": [
    "# Write a function to take repeated samples (because obviously, the benefit of using code \n",
    "# instead of working by hand is that the computer can do the boring work instead of you).\n",
    "# Sstart by defining a 'function' to take a single sample.\n",
    "\n",
    "def sample_one(mu, sigma, sample_size):\n",
    "    \"\"\"A function to take a single sample from a normally-distributed population.\n",
    "    Input:  mu, the population mean\n",
    "            sigma, the population standard deviation\n",
    "            sample_size, an integer value indicating the sample size to use\n",
    "    Return: this_sample, an array containing the values you sampled.\n",
    "    \"\"\"\n",
    "    this_sample = np.empty(sample_size) \n",
    "    for i in range(sample_size):\n",
    "        this_sample[i] = random.gauss(mu, sigma)\n",
    "    return this_sample "
   ]
  },
  {
   "cell_type": "markdown",
   "id": "991f6b89",
   "metadata": {},
   "source": [
    "Now, make a call to this function. Do that in a loop, so that the function is called many times. It will be a sampling distribution of sample means (DOSM). Here are the steps in building a DOSM using Monte Carlo sampling. \n",
    "\n",
    "1. Define your population parameters (e.g., mu and sigma). \n",
    "\n",
    "2. Select your sample size.\n",
    "\n",
    "3. Select the number of samples you will take.\n",
    "\n",
    "4. Take a sample.\n",
    "\n",
    "5. Compute and store the sample mean.\n",
    "\n",
    "6. Repeat steps 4 & 5 lots of times (once for each sample)\n",
    "\n",
    "7. Plot a histogram of the sample means.\n",
    "\n"
   ]
  },
  {
   "cell_type": "code",
   "execution_count": 7,
   "id": "1bb2ebb7",
   "metadata": {},
   "outputs": [],
   "source": [
    "# Define the Monte Carlo function\n",
    "\n",
    "def my_monte_carlo_function(pop_mean, pop_sd, n, iterations):\n",
    "    \"\"\"A function to take Monte Carlo samples, compute their mean, and return an array of sample means.\n",
    "    Input: pop_mean, the population mean\n",
    "           pop_sd, the population standard deviation\n",
    "           n, the size of each indivdual sample\n",
    "           iterations, the number of samples to take\n",
    "    Return: sample_means, an array of sample means.\n",
    "    \"\"\"\n",
    "    sample_means = np.empty(iterations)\n",
    "    for i in range(iterations):\n",
    "        sample_means[i] = np.mean(sample_one(pop_mean, pop_sd, n))\n",
    "    return sample_means"
   ]
  },
  {
   "cell_type": "markdown",
   "id": "785f5ed9",
   "metadata": {},
   "source": [
    "Need to make a call to the Monte Carlo function to run it and get the output. First, need to define the input varaibles. Then, will make that function call in the code cell below and plot a histogram of the results. In addition, print the mean and standard deviation of the DOSM and see how it compares to the population mu (should be about the same) and sigma (should be much smaller - why?). "
   ]
  },
  {
   "cell_type": "code",
   "execution_count": 8,
   "id": "c31b98d3",
   "metadata": {},
   "outputs": [
    {
     "data": {
      "image/png": "[encoded data removed]",
      "text/plain": [
       "<Figure size 432x288 with 1 Axes>"
      ]
     },
     "metadata": {
      "needs_background": "light"
     },
     "output_type": "display_data"
    },
    {
     "name": "stdout",
     "output_type": "stream",
     "text": [
      "The mean of the DOSM is: 100.0157.\n",
      "The standard deviation of the DOSM is: 1.4168.\n"
     ]
    }
   ],
   "source": [
    "# Variable definitions \n",
    "mu = 100\n",
    "sigma = 20\n",
    "sample_size = 200\n",
    "number_samples = 5000\n",
    "\n",
    "# Function call \n",
    "my_dosm = my_monte_carlo_function(mu, sigma, sample_size, number_samples)\n",
    "\n",
    "# Results\n",
    "plt.hist(my_dosm)\n",
    "plt.title(f'Distribution of Sample Means (mu = {mu}, sigma = {sigma}, n = {sample_size}).')\n",
    "plt.ylabel('Frequency')\n",
    "plt.xlabel('Sample Mean')\n",
    "plt.show()\n",
    "\n",
    "print(f'The mean of the DOSM is: {np.mean(my_dosm):.4f}.')\n",
    "print(f'The standard deviation of the DOSM is: {np.std(my_dosm):.4f}.') "
   ]
  },
  {
   "cell_type": "markdown",
   "id": "4d2cab45",
   "metadata": {},
   "source": []
  },
  {
   "cell_type": "markdown",
   "id": "dfacce77",
   "metadata": {},
   "source": [
    "### <font color=\"blue\"> *Problem 2a*</font>\n",
    "\n",
    "Now that I have made a DOSM, I should be able to make a very small edit to the Monte Carlo function above and have it respond with an array of sample standard deviations instead of an array of sample means. \n",
    "\n",
    "In addition to producing a DOSD, will change the 'sample_one' code to change the distribution you are randomly sampling from a Gaussian to a UNIFORM distribution. \n"
   ]
  },
  {
   "cell_type": "code",
   "execution_count": 9,
   "id": "ad65b722",
   "metadata": {},
   "outputs": [],
   "source": [
    "# Define the edited sampling function here so that it samples from a uniform distribution. \n",
    "# (Be sure to change the function name so that you don't over-write the function above).\n",
    "def sample_one_uni(a, b, sample_size):\n",
    "    \"\"\"A function to take a single sample from a uniformly-distributed population.\n",
    "    Input:  a, the lower boudary\n",
    "            b, the upper boundary\n",
    "            sample_size, an integer value indicating the sample size to use\n",
    "    Return: this_sample, an array containing the values you sampled.\n",
    "    \"\"\"\n",
    "    this_sample = np.empty(sample_size) \n",
    "    for i in range(sample_size):\n",
    "        this_sample[i] = random.uniform(a, b)\n",
    "    return this_sample \n",
    "\n",
    "# Define the edited Monte Carlo function\n",
    "\n",
    "def std_monte_carlo_function(a, b, n, iterations):\n",
    "    \"\"\"A function to take Monte Carlo samples, compute their standard deviations, and return an array of sample standard deviations.\n",
    "    Input: a, the lower boundary of distribution\n",
    "           b, the lower boundary of distribution\n",
    "           n, the size of each indivdual sample\n",
    "           iterations, the number of samples to take\n",
    "    Return: sample_stds, an array of sample standard deviations.\n",
    "    \"\"\"\n",
    "    sample_stds = np.empty(iterations)\n",
    "    for i in range(iterations):\n",
    "        sample_stds[i] = np.std(sample_one_uni(a, b, n))\n",
    "    return sample_stds"
   ]
  },
  {
   "cell_type": "code",
   "execution_count": 10,
   "id": "9ccf0384",
   "metadata": {},
   "outputs": [
    {
     "data": {
      "image/png": "[encoded data removed]",
      "text/plain": [
       "<Figure size 432x288 with 1 Axes>"
      ]
     },
     "metadata": {
      "needs_background": "light"
     },
     "output_type": "display_data"
    },
    {
     "name": "stdout",
     "output_type": "stream",
     "text": [
      "The mean of the DOSS is: 2.8779.\n",
      "The standard deviation of the DOSS is: 0.0920.\n"
     ]
    }
   ],
   "source": [
    "# Call the edited function, plot the result and print the mean/standard deviation. Use the values 0 and 10 for the \n",
    "# lower and upper boundaries of your uniform distribution. Define the other parameters.\n",
    "a = 0\n",
    "b = 10 \n",
    "sample_size = 200\n",
    "number_samples = 5000\n",
    "\n",
    "my_dossd = std_monte_carlo_function(a, b, sample_size, number_samples)\n",
    "\n",
    "plt.hist(my_dossd, bins = 30)\n",
    "plt.title(f'Distribution of Sample Standard Deviations (a = {a}, b = {b}, n = {sample_size}).')\n",
    "plt.ylabel('Frequency')\n",
    "plt.xlabel('Sample Standard Deviation')\n",
    "plt.show()\n",
    "\n",
    "print(f'The mean of the DOSS is: {np.mean(my_dossd):.4f}.')\n",
    "print(f'The standard deviation of the DOSS is: {np.std(my_dossd):.4f}.') "
   ]
  },
  {
   "cell_type": "markdown",
   "id": "568290b5",
   "metadata": {},
   "source": [
    "### <font color=\"blue\"> *Problem 2b*</font>\n",
    "\n",
    "Does the distribution produced by this sampling process look like it came from a uniform distribution? Why or why not? \n"
   ]
  },
  {
   "cell_type": "markdown",
   "id": "195573fe",
   "metadata": {},
   "source": [
    "<font color=\"red\">The distribution does not look like it came from a uniform distribution. A uniform distribution means that all outcomes are equally likely within a given range, so the histogram would appear flat, with each bin having approximately the same frequency. Sample standard deviations look at the variability within samples. The DOSS reflects the variability within each sample, with the distribution clusterring around the population standard deviation 2.8766. So it resembles the bell curve of a normal distribution rather than a flat, uniform one.\n"
   ]
  },
  {
   "cell_type": "markdown",
   "id": "6ebbe327",
   "metadata": {},
   "source": [
    "### <font color=\"blue\"> *Problem 3a*</font>\n",
    "\n",
    "Three paramters are defined in the code block below (population mu = 100; population sigma = 15; & sample size = 100).\n",
    "The code cell below contains code that is ready to run. Run it and examine the histogram it produces. Then edit, one-at-a-time, the following three parameters (execute the cell several times at each value to resample the code):\n",
    "\n",
    "- population mu (try at least three values from 0 to 200)\n",
    "- population sigma (try at least four values from 0 to 20)\n",
    "- sample size (try at least five values from n = 10 to n = 200)"
   ]
  },
  {
   "cell_type": "code",
   "execution_count": 11,
   "id": "55fde838",
   "metadata": {},
   "outputs": [
    {
     "data": {
      "image/png": "[encoded data removed]",
      "text/plain": [
       "<Figure size 432x288 with 1 Axes>"
      ]
     },
     "metadata": {
      "needs_background": "light"
     },
     "output_type": "display_data"
    }
   ],
   "source": [
    "population_mu = 2\n",
    "population_sigma = 15\n",
    "sample_size = 12\n",
    "\n",
    "current_sample = sample_one(population_mu, population_sigma, sample_size)\n",
    "plt.hist(current_sample, alpha=.5)\n",
    "plt.title(f'Distribution of Scores from a Gaussian Population (mu = {population_mu}, sigma = {population_sigma}, n = {sample_size})')\n",
    "plt.axvline(np.mean(current_sample), label='Sample Mean')\n",
    "plt.axvline((np.mean(current_sample) - np.std(current_sample, ddof=1)), linestyle='dashed', label='Sample SD')\n",
    "plt.axvline((np.mean(current_sample) + np.std(current_sample, ddof=1)), linestyle='dashed')\n",
    "plt.ylabel('Frequency')\n",
    "plt.xlabel('Score')\n",
    "plt.legend()\n",
    "plt.show()"
   ]
  },
  {
   "cell_type": "markdown",
   "id": "1d838938",
   "metadata": {},
   "source": [
    "### <font color=\"blue\"> *Problem 3b*</font>\n",
    "\n",
    "This code draws from a normal distribution. Do the distributions look normal? How does increasing the value of each parameter change the resulting distribution? \n"
   ]
  },
  {
   "cell_type": "markdown",
   "id": "1c16f162",
   "metadata": {},
   "source": [
    "\n",
    "\n",
    " - Mu: <font color=\"red\"> Changing the population mean will shift the center of the distribution to reflect a new mean value, but the overall shape of the distribution will still be normal.\n",
    " \n",
    " \n",
    " - Sigma: <font color=\"red\"> Increasing the population standard deviation will make both the distribution more spread out, while decreasing sigma will make it narrower.\n",
    " \n",
    " \n",
    " - Sample size: <font color=\"red\"> Increasing the number of samples will increase the smoothness of the distribution. The histogram will become more precise in reflecting a normal distribution as more samples are taken, and the overall shape stabilizes.\n",
    " \n",
    " "
   ]
  },
  {
   "cell_type": "markdown",
   "id": "3c129f18",
   "metadata": {},
   "source": [
    "# \n",
    "# \n",
    "\n",
    "# Probability\n",
    "\n",
    "The next part of this lab will examine probability. We will be calculating the likelihood of events occuring, given a sample space."
   ]
  },
  {
   "cell_type": "code",
   "execution_count": 12,
   "id": "e4007abc",
   "metadata": {},
   "outputs": [
    {
     "name": "stdout",
     "output_type": "stream",
     "text": [
      "Here are your M&Ms: ['Orange', 'Green', 'Green', 'Yellow', 'Blue', 'Yellow', 'Red', 'Brown', 'Orange', 'Blue', 'Blue', 'Brown', 'Brown', 'Brown', 'Blue', 'Green', 'Yellow', 'Blue', 'Green', 'Green', 'Green']\n",
      "\n",
      "Here is a histogram your M&Ms, by colour (for easier counting):\n"
     ]
    },
    {
     "data": {
      "image/png": "[encoded data removed]",
      "text/plain": [
       "<Figure size 432x288 with 1 Axes>"
      ]
     },
     "metadata": {
      "needs_background": "light"
     },
     "output_type": "display_data"
    }
   ],
   "source": [
    "n = np.random.randint(17, 30)\n",
    "c = ['Red', 'Blue', 'Green', 'Yellow', 'Orange', 'Brown']\n",
    "s = random.choices(c, k=n, weights=[random.randint(1, 9), random.randint(1, 9), random.randint(1, 9), random.randint(1, 9), random.randint(1, 9), random.randint(1, 9)])\n",
    "print(f'Here are your M&Ms: {s}')\n",
    "labels, counts = np.unique(s,return_counts=True)\n",
    "i = 0\n",
    "m_and_ms = dict()\n",
    "for label in labels:\n",
    "    m_and_ms[label] = counts[i]\n",
    "    i += 1\n",
    "print(f'\\nHere is a histogram your M&Ms, by colour (for easier counting):')\n",
    "import seaborn as sns\n",
    "palette = {'Blue': '#0063ff', 'Brown': '#6E2C00', 'Red': '#Ff2d00', 'Green': '#4bd04d', 'Yellow': '#F8ff00', 'Orange': '#Ff9200'}\n",
    "ax = sns.barplot(x = list(m_and_ms.keys()), y = list(m_and_ms.values()), palette=palette)\n",
    "ax.yaxis.grid(True)\n",
    "ax.xaxis.grid(False)\n",
    "ax.set_ylabel('Count')\n",
    "plt.show()"
   ]
  },
  {
   "cell_type": "markdown",
   "id": "b1b85882",
   "metadata": {},
   "source": [
    "Let's start by calculating the distribution of the sample. This allows us to determine the probability of each event in the sample space. To simplify this idea, we will think about this in the context of a random draw of a single M&M. Basically, we want to figure out the chance of randomly drawing an M&M of each colour, given the sample."
   ]
  },
  {
   "cell_type": "code",
   "execution_count": 13,
   "id": "239ae2ba",
   "metadata": {},
   "outputs": [
    {
     "name": "stdout",
     "output_type": "stream",
     "text": [
      "There are 21 M&Ms in the sample.\n"
     ]
    }
   ],
   "source": [
    "total_candy = len(s)\n",
    "print(f'There are {total_candy} M&Ms in the sample.')"
   ]
  },
  {
   "cell_type": "markdown",
   "id": "6b589bbe",
   "metadata": {},
   "source": []
  },
  {
   "cell_type": "code",
   "execution_count": 14,
   "id": "61f3535b",
   "metadata": {},
   "outputs": [
    {
     "name": "stdout",
     "output_type": "stream",
     "text": [
      "{'Blue': 5, 'Brown': 4, 'Green': 6, 'Orange': 2, 'Red': 1, 'Yellow': 3}\n"
     ]
    }
   ],
   "source": [
    "print(m_and_ms)"
   ]
  },
  {
   "cell_type": "markdown",
   "id": "bf194549",
   "metadata": {},
   "source": [
    "Now what we need to do is to divide each of these numbers by the total number of M&Ms. Do this in a loop using the candy colour to index the dictionary "
   ]
  },
  {
   "cell_type": "code",
   "execution_count": 15,
   "id": "29ccd4a0",
   "metadata": {},
   "outputs": [
    {
     "name": "stdout",
     "output_type": "stream",
     "text": [
      "The proportion of Blue M&Ms in the sample is:  0.24\n",
      "The proportion of Brown M&Ms in the sample is:  0.19\n",
      "The proportion of Green M&Ms in the sample is:  0.29\n",
      "The proportion of Orange M&Ms in the sample is:  0.10\n",
      "The proportion of Red M&Ms in the sample is:  0.05\n",
      "The proportion of Yellow M&Ms in the sample is:  0.14\n"
     ]
    }
   ],
   "source": [
    "for candy_colour in m_and_ms:\n",
    "    print(f'The proportion of {candy_colour} M&Ms in the sample is: {m_and_ms[candy_colour] / total_candy: .2f}')"
   ]
  },
  {
   "cell_type": "markdown",
   "id": "76e43bf7",
   "metadata": {},
   "source": [
    "Now select a specific candy color."
   ]
  },
  {
   "cell_type": "markdown",
   "id": "78b9856c",
   "metadata": {},
   "source": [
    "Candy colour: Brown"
   ]
  },
  {
   "cell_type": "markdown",
   "id": "4e43e1e2",
   "metadata": {},
   "source": [
    "Now, print the proportion of times a random draw (with replacement) would give that M&M colour"
   ]
  },
  {
   "cell_type": "code",
   "execution_count": 16,
   "id": "d23b5509",
   "metadata": {},
   "outputs": [
    {
     "name": "stdout",
     "output_type": "stream",
     "text": [
      "The probability of drawing a BROWN M&M from my sample is: 4 divided by 21 =  0.19\n"
     ]
    }
   ],
   "source": [
    " print(f'The probability of drawing a BROWN M&M from my sample is: {m_and_ms[\"Brown\"]} divided by {total_candy} = {m_and_ms[\"Brown\"] / total_candy: .2f}')"
   ]
  },
  {
   "cell_type": "markdown",
   "id": "29db2188",
   "metadata": {},
   "source": [
    "What's the chance that your next draw is the same colour? \n",
    "\n",
    "\n",
    "Well, that will depend on whether I eat the M&M (the likelihood of the second event will depend on the first event) or toss it back into the sample (the likelihood of the second event will be independent of the first event).\n",
    "\n",
    "Conceptually, if two events are independent, knowing something about the likelihood of one event tells us nothing about the likelihood of another. \n",
    "\n",
    "Here is an example. If I commute to work on foot nearly every single day (rain or shine), knowing whether it's raining or sunny today is not going to affect the likelihood that I will walk to work (I nearly always walk). These events (me walking and the current weather) are independent. If I'm a fair-weather walker, I only walk to work when it's sunny, then knowing whether it's raining or sunny today IS going to affect the likelihood that I will walk to work, such that the likelihood that I walk to work will increase as the weather becomes nicer. These events are dependent."
   ]
  },
  {
   "cell_type": "markdown",
   "id": "af228394",
   "metadata": {},
   "source": [
    "\n"
   ]
  },
  {
   "cell_type": "markdown",
   "id": "31ad1416",
   "metadata": {},
   "source": [
    "Let's try the independent calculation below. Before we do that, we will have a look at our candy to check the values (don't forget that if you are looking at a candy colour that is not blue, you'll need to substitute that candy colour into the equations as needed).\n",
    "\n",
    "the equation is:\n",
    "\n",
    "$$ P(A|B) = P(A and B) / P(B) $$\n",
    "\n",
    "For independent events, the joint probability of both events is simply: $$ P(A and B) = P(A) * P(B) $$"
   ]
  },
  {
   "cell_type": "code",
   "execution_count": 17,
   "id": "4316ed28",
   "metadata": {},
   "outputs": [
    {
     "name": "stdout",
     "output_type": "stream",
     "text": [
      "The total number of candies is: 21.\n",
      "The total number of Brown candies is: 4.\n",
      "The probability of selecting a Brown candy in a random pick is: 0.19.\n",
      "We will make this number a variable: \"p_brown\" and round it to 2 decimal places (for simplicity).\n"
     ]
    }
   ],
   "source": [
    "# Start by reminding what the variables are.\n",
    "# Original values, before we selected the first brown candy.\n",
    "\n",
    "print(f'The total number of candies is: {total_candy}.')\n",
    "print(f'The total number of Brown candies is: {m_and_ms[\"Brown\"]}.')\n",
    "print(f'The probability of selecting a Brown candy in a random pick is: {m_and_ms[\"Brown\"] / total_candy:.2f}.')\n",
    "print(f'We will make this number a variable: \"p_brown\" and round it to 2 decimal places (for simplicity).')\n",
    "p_brown = round(m_and_ms[\"Brown\"] / total_candy, 2)"
   ]
  },
  {
   "cell_type": "code",
   "execution_count": 18,
   "id": "f82b178d",
   "metadata": {},
   "outputs": [
    {
     "name": "stdout",
     "output_type": "stream",
     "text": [
      "The original probability of a brown candy was: 0.19.\n",
      "Because the numbers have not changed, the probability of brown on the next pick is (still): 0.19.\n",
      "When two events are independent, their probabilities for occurring are unrelated.\n",
      "Plugging the numbers into the formula, we get: P(brown2|brown1) = (P(brown2) * P(brown1)) / P(brown1) = 0.19.\n",
      "\n",
      "When events are independent, the probability of one event given another is simply the probability of \n",
      "the original event.\n"
     ]
    }
   ],
   "source": [
    "# Now, if we replace the candy (we toss it back into the sample), our values are the same as above.\n",
    "\n",
    "print(f'The original probability of a brown candy was: {p_brown}.')\n",
    "print(f'Because the numbers have not changed, the probability of brown on the next pick is (still): {p_brown}.')\n",
    "print(f'When two events are independent, their probabilities for occurring are unrelated.')\n",
    "print(f'Plugging the numbers into the formula, we get: P(brown2|brown1) = (P(brown2) * P(brown1)) / P(brown1) = {(p_brown * p_brown) / p_brown}.')\n",
    "print(f'\\nWhen events are independent, the probability of one event given another is simply the probability of \\nthe original event.')\n"
   ]
  },
  {
   "cell_type": "markdown",
   "id": "a7116ca3",
   "metadata": {},
   "source": [
    "### <font color=\"blue\"> *Problem 5*</font>\n",
    "\n",
    "Formula in the Markdown cell under this one, then the calculation in the following code cell and print your results\n"
   ]
  },
  {
   "cell_type": "markdown",
   "id": "46c45400",
   "metadata": {},
   "source": [
    "FORMULA: <font color=\"red\">  number of REMAINING brown candies divided by the number of REMAINING total candies\n",
    "    \n",
    "\n",
    "\n",
    "\n"
   ]
  },
  {
   "cell_type": "code",
   "execution_count": 19,
   "id": "7744bb23",
   "metadata": {},
   "outputs": [
    {
     "name": "stdout",
     "output_type": "stream",
     "text": [
      "The total number of candies is: 21.\n",
      "The total number of Brown candies is: 4.\n",
      "The probability of selecting a Brown candy on the first pick is: 0.19.\n",
      "After picking and eating a Brown candy, the probability of selecting another Brown candy is: 0.15.\n",
      "\n",
      "So, P(brown2|brown1) when we do not replace the first candy is: 0.15.\n"
     ]
    }
   ],
   "source": [
    "# The dependent calculation is (check to make sure your parentheses are in the right places):\n",
    "p_brown_g_brown1 = (m_and_ms[\"Brown\"]- 1) / (total_candy - 1)\n",
    "\n",
    "print(f'The total number of candies is: {total_candy}.')\n",
    "print(f'The total number of Brown candies is: {m_and_ms[\"Brown\"]}.')\n",
    "print(f'The probability of selecting a Brown candy on the first pick is: {p_brown:.2f}.')\n",
    "print(f'After picking and eating a Brown candy, the probability of selecting another Brown candy is: {p_brown_g_brown1:.2f}.')\n",
    "print(f'\\nSo, P(brown2|brown1) when we do not replace the first candy is: {p_brown_g_brown1:.2f}.')\n"
   ]
  },
  {
   "cell_type": "markdown",
   "id": "ad0af315",
   "metadata": {},
   "source": [
    "### <font color=\"blue\"> *Problem 6*</font>\n",
    "\n",
    "How does the idea of probability relate to 1) sample distributions and 2) sampling distributions in statistics?"
   ]
  },
  {
   "cell_type": "markdown",
   "id": "90d97971",
   "metadata": {},
   "source": [
    "<font color=\"red\"> Probability of an event happening in the sample is based on the underlying population distribution. If the population is normally distributed, the probability of observing values near the mean is higher than values far from the mean.\n",
    "\n",
    "<font color=\"red\"> In a sampling distribution, probability describes the distribution of sample statistics. In distributions of sample means from a population, it would probably reflect normal distributions as the sample size goes up. Probability can help find the likelihood of observing a particular sample mean given a population mean. \n",
    "\n",
    "<font color=\"red\"> TLDR: Sample Distributions focus on the probability of individual data points in a sample, while sampling Distributions focus on the probability of a mean or proportion calculated from many samples.\n",
    "\n"
   ]
  },
  {
   "cell_type": "code",
   "execution_count": null,
   "id": "0ada21e3",
   "metadata": {},
   "outputs": [],
   "source": []
  }
 ],
 "metadata": {
  "kernelspec": {
   "display_name": "Python 3 (ipykernel)",
   "language": "python",
   "name": "python3"
  },
  "language_info": {
   "codemirror_mode": {
    "name": "ipython",
    "version": 3
   },
   "file_extension": ".py",
   "mimetype": "text/x-python",
   "name": "python",
   "nbconvert_exporter": "python",
   "pygments_lexer": "ipython3",
   "version": "3.9.12"
  }
 },
 "nbformat": 4,
 "nbformat_minor": 5
}
